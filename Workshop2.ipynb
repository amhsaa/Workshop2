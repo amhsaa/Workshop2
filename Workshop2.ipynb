{
  "nbformat": 4,
  "nbformat_minor": 0,
  "metadata": {
    "colab": {
      "provenance": []
    },
    "kernelspec": {
      "name": "python3",
      "display_name": "Python 3"
    },
    "language_info": {
      "name": "python"
    }
  },
  "cells": [
    {
      "cell_type": "markdown",
      "source": [
        "Aashma Dangol"
      ],
      "metadata": {
        "id": "fAqVuGELTXW4"
      }
    },
    {
      "cell_type": "markdown",
      "source": [
        "Series - Code Example"
      ],
      "metadata": {
        "id": "sNOKC7_NTQ3T"
      }
    },
    {
      "cell_type": "code",
      "execution_count": null,
      "metadata": {
        "colab": {
          "base_uri": "https://localhost:8080/"
        },
        "id": "zIVtgQCZPlDo",
        "outputId": "37b3173e-c75b-4fdd-bde7-4d8a91065aee"
      },
      "outputs": [
        {
          "output_type": "stream",
          "name": "stdout",
          "text": [
            "0    10\n",
            "1    20\n",
            "2    30\n",
            "3    40\n",
            "dtype: int64\n"
          ]
        }
      ],
      "source": [
        "import pandas as pd\n",
        "# Creating a simple Series\n",
        "data = [10 , 20 , 30 , 40]\n",
        "series = pd . Series ( data )\n",
        "print ( series )"
      ]
    },
    {
      "cell_type": "markdown",
      "source": [
        "Types of Index:\n",
        "1 Default Index: A numeric range starting from 0:"
      ],
      "metadata": {
        "id": "1cFzYcHETO3n"
      }
    },
    {
      "cell_type": "code",
      "source": [
        "import pandas as pd\n",
        "series = pd . Series ([10 , 20 , 30])\n",
        "print ( series . index )\n",
        "# Output : RangeIndex ( start =0 , stop =3 , step =1)"
      ],
      "metadata": {
        "colab": {
          "base_uri": "https://localhost:8080/"
        },
        "id": "vklQoTefTf8C",
        "outputId": "e984948b-ca0e-4a4b-efa8-a543eb2b03af"
      },
      "execution_count": null,
      "outputs": [
        {
          "output_type": "stream",
          "name": "stdout",
          "text": [
            "RangeIndex(start=0, stop=3, step=1)\n"
          ]
        }
      ]
    },
    {
      "cell_type": "markdown",
      "source": [
        "Custom Index: User defined labels."
      ],
      "metadata": {
        "id": "YBsC5IP4TlQx"
      }
    },
    {
      "cell_type": "code",
      "source": [
        "import pandas as pd\n",
        "\n",
        "series = pd . Series ([10 , 20 , 30] , index =[ 'a','b','c']) #shouldnt use curly quote\n",
        "print ( series )"
      ],
      "metadata": {
        "colab": {
          "base_uri": "https://localhost:8080/"
        },
        "id": "2rjSL83ZTo3i",
        "outputId": "e189c983-cf5e-47da-ab05-6fe351abc40f"
      },
      "execution_count": null,
      "outputs": [
        {
          "output_type": "stream",
          "name": "stdout",
          "text": [
            "a    10\n",
            "b    20\n",
            "c    30\n",
            "dtype: int64\n"
          ]
        }
      ]
    },
    {
      "cell_type": "markdown",
      "source": [
        "Data Structure - Index."
      ],
      "metadata": {
        "id": "PDlaezBWUEvb"
      }
    },
    {
      "cell_type": "markdown",
      "source": [
        "Datetime Index: Special index for time-series data."
      ],
      "metadata": {
        "id": "40BrAaidUN6p"
      }
    },
    {
      "cell_type": "code",
      "source": [
        "import pandas as pd\n",
        "\n",
        "# Create a date range\n",
        "dates = pd.date_range('2023-01-01', periods=3)\n",
        "\n",
        "# Create a series with the specified dates as index\n",
        "series = pd.Series([10, 20, 30], index=dates)\n",
        "\n",
        "# Print the series\n",
        "print(series)\n"
      ],
      "metadata": {
        "colab": {
          "base_uri": "https://localhost:8080/"
        },
        "id": "3WMpk1p8UFIQ",
        "outputId": "6d5f13e6-c802-4ca3-e990-2ff9a65d5e55"
      },
      "execution_count": null,
      "outputs": [
        {
          "output_type": "stream",
          "name": "stdout",
          "text": [
            "2023-01-01    10\n",
            "2023-01-02    20\n",
            "2023-01-03    30\n",
            "Freq: D, dtype: int64\n"
          ]
        }
      ]
    },
    {
      "cell_type": "markdown",
      "source": [
        "2.3.3 Data Structure - Index."
      ],
      "metadata": {
        "id": "nk5Gh6iaWfZm"
      }
    },
    {
      "cell_type": "code",
      "source": [
        "import pandas as pd\n",
        "\n",
        "# Accessing the index of the Series\n",
        "print(series.index)\n",
        "\n",
        "# Set or Reset Index for Series\n",
        "series.index = ['x', 'y', 'z']  # Set a new index for the Series\n",
        "\n",
        "# Creating a DataFrame with custom index\n",
        "df = pd.DataFrame({'A': [1, 2]}, index=['row1', 'row2'])\n",
        "\n",
        "# Resetting the index of the DataFrame\n",
        "df.reset_index(inplace=True)\n",
        "\n",
        "# Printing the DataFrame after resetting index\n",
        "print(df)\n"
      ],
      "metadata": {
        "colab": {
          "base_uri": "https://localhost:8080/"
        },
        "id": "uJhF0nTpW_Ut",
        "outputId": "de0dd42f-191b-4058-b526-103a4244de47"
      },
      "execution_count": null,
      "outputs": [
        {
          "output_type": "stream",
          "name": "stdout",
          "text": [
            "Index(['x', 'y', 'z'], dtype='object')\n",
            "  index  A\n",
            "0  row1  1\n",
            "1  row2  2\n"
          ]
        }
      ]
    },
    {
      "cell_type": "markdown",
      "source": [
        "3.Building and Modifying DataFrames.\n",
        "Creating DataFrames."
      ],
      "metadata": {
        "id": "T6u5o79mYPNv"
      }
    },
    {
      "cell_type": "code",
      "source": [
        "import pandas as pd\n",
        "\n",
        "# Style 1: Creating DataFrame without specifying index\n",
        "df1 = pd.DataFrame({\n",
        "    'Bob': ['I liked it.', 'It was awful'],\n",
        "    'Sue': ['Pretty good.', 'Bland.']\n",
        "})\n",
        "print(\"Style 1 DataFrame:\\n\", df1)\n",
        "\n",
        "# Style 2: Creating DataFrame with a custom index\n",
        "df2 = pd.DataFrame({\n",
        "    'Bob': ['I liked it.', 'It was awful.'],\n",
        "    'Sue': ['Pretty good.', 'Bland.']\n",
        "}, index=['Product A', 'Product B'])\n",
        "print(\"\\nStyle 2 DataFrame with custom index:\\n\", df2)\n"
      ],
      "metadata": {
        "colab": {
          "base_uri": "https://localhost:8080/"
        },
        "id": "ehJsiaxyYPvA",
        "outputId": "5492ceb0-61db-4caa-e594-2d0bbb363e8f"
      },
      "execution_count": null,
      "outputs": [
        {
          "output_type": "stream",
          "name": "stdout",
          "text": [
            "Style 1 DataFrame:\n",
            "             Bob           Sue\n",
            "0   I liked it.  Pretty good.\n",
            "1  It was awful        Bland.\n",
            "\n",
            "Style 2 DataFrame with custom index:\n",
            "                      Bob           Sue\n",
            "Product A    I liked it.  Pretty good.\n",
            "Product B  It was awful.        Bland.\n"
          ]
        }
      ]
    },
    {
      "cell_type": "markdown",
      "source": [
        "Loading Data to DataFrames."
      ],
      "metadata": {
        "id": "-DNN3GczYgcK"
      }
    },
    {
      "cell_type": "code",
      "source": [
        "# Mount Google Drive to access the file\n",
        "from google.colab import drive\n",
        "drive.mount('/content/drive')\n",
        "\n",
        "# Import pandas and read the CSV file from the root of Google Drive\n",
        "import pandas as pd\n",
        "dataset = pd.read_csv('/content/drive/MyDrive/Bank.csv')  # Directly in MyDrive (no folder path)\n",
        "\n",
        "# Display the first few rows, last few rows, and information about the dataset\n",
        "print(\"First 5 rows of the dataset:\")\n",
        "print(dataset.head())\n",
        "\n",
        "print(\"\\nLast 5 rows of the dataset:\")\n",
        "print(dataset.tail())\n",
        "\n",
        "print(\"\\nDataset Info:\")\n",
        "print(dataset.info())\n"
      ],
      "metadata": {
        "colab": {
          "base_uri": "https://localhost:8080/"
        },
        "id": "kdqRvGLqc9U3",
        "outputId": "c95f3004-af4b-4669-fc56-7ee7a6d58b1f"
      },
      "execution_count": null,
      "outputs": [
        {
          "output_type": "stream",
          "name": "stdout",
          "text": [
            "Drive already mounted at /content/drive; to attempt to forcibly remount, call drive.mount(\"/content/drive\", force_remount=True).\n",
            "First 5 rows of the dataset:\n",
            "     name  address      class\n",
            "0  aashma  kalanki  bachelors\n",
            "1  aashma  kalanki  bachelors\n",
            "2  aashma  kalanki  bachelors\n",
            "3  aashma  kalanki  bachelors\n",
            "\n",
            "Last 5 rows of the dataset:\n",
            "     name  address      class\n",
            "0  aashma  kalanki  bachelors\n",
            "1  aashma  kalanki  bachelors\n",
            "2  aashma  kalanki  bachelors\n",
            "3  aashma  kalanki  bachelors\n",
            "\n",
            "Dataset Info:\n",
            "<class 'pandas.core.frame.DataFrame'>\n",
            "RangeIndex: 4 entries, 0 to 3\n",
            "Data columns (total 3 columns):\n",
            " #   Column   Non-Null Count  Dtype \n",
            "---  ------   --------------  ----- \n",
            " 0   name     4 non-null      object\n",
            " 1   address  4 non-null      object\n",
            " 2   class    4 non-null      object\n",
            "dtypes: object(3)\n",
            "memory usage: 224.0+ bytes\n",
            "None\n"
          ]
        }
      ]
    },
    {
      "cell_type": "markdown",
      "source": [
        "3.3 Writing DataFrames to CSV."
      ],
      "metadata": {
        "id": "25Lpex6gN3wU"
      }
    },
    {
      "cell_type": "code",
      "source": [
        "import pandas as pd\n",
        "\n",
        "# Create a DataFrame\n",
        "data = {'Name': ['Alice', 'Bob', 'Charlie'],\n",
        "        'City': ['New York', 'San Francisco', 'Los Angeles']}\n",
        "df = pd.DataFrame(data)\n",
        "\n",
        "# Write DataFrame to CSV\n",
        "df.to_csv('output.csv', index=False)\n",
        "\n",
        "# Download the file\n",
        "from google.colab import files\n",
        "files.download('output.csv')\n"
      ],
      "metadata": {
        "colab": {
          "base_uri": "https://localhost:8080/",
          "height": 17
        },
        "id": "trIbTr71OJAB",
        "outputId": "fae4bad4-7ea4-4551-e42b-c296779ccdd8"
      },
      "execution_count": null,
      "outputs": [
        {
          "output_type": "display_data",
          "data": {
            "text/plain": [
              "<IPython.core.display.Javascript object>"
            ],
            "application/javascript": [
              "\n",
              "    async function download(id, filename, size) {\n",
              "      if (!google.colab.kernel.accessAllowed) {\n",
              "        return;\n",
              "      }\n",
              "      const div = document.createElement('div');\n",
              "      const label = document.createElement('label');\n",
              "      label.textContent = `Downloading \"${filename}\": `;\n",
              "      div.appendChild(label);\n",
              "      const progress = document.createElement('progress');\n",
              "      progress.max = size;\n",
              "      div.appendChild(progress);\n",
              "      document.body.appendChild(div);\n",
              "\n",
              "      const buffers = [];\n",
              "      let downloaded = 0;\n",
              "\n",
              "      const channel = await google.colab.kernel.comms.open(id);\n",
              "      // Send a message to notify the kernel that we're ready.\n",
              "      channel.send({})\n",
              "\n",
              "      for await (const message of channel.messages) {\n",
              "        // Send a message to notify the kernel that we're ready.\n",
              "        channel.send({})\n",
              "        if (message.buffers) {\n",
              "          for (const buffer of message.buffers) {\n",
              "            buffers.push(buffer);\n",
              "            downloaded += buffer.byteLength;\n",
              "            progress.value = downloaded;\n",
              "          }\n",
              "        }\n",
              "      }\n",
              "      const blob = new Blob(buffers, {type: 'application/binary'});\n",
              "      const a = document.createElement('a');\n",
              "      a.href = window.URL.createObjectURL(blob);\n",
              "      a.download = filename;\n",
              "      div.appendChild(a);\n",
              "      a.click();\n",
              "      div.remove();\n",
              "    }\n",
              "  "
            ]
          },
          "metadata": {}
        },
        {
          "output_type": "display_data",
          "data": {
            "text/plain": [
              "<IPython.core.display.Javascript object>"
            ],
            "application/javascript": [
              "download(\"download_e46acb25-14b9-4cff-8031-d17df032002c\", \"output.csv\", 63)"
            ]
          },
          "metadata": {}
        }
      ]
    },
    {
      "cell_type": "markdown",
      "source": [
        "4.1.1 First Data Inspection and Exploration - Sample Code."
      ],
      "metadata": {
        "id": "3lY9Oc6_PVvN"
      }
    },
    {
      "cell_type": "code",
      "source": [
        "import pandas as pd\n",
        "\n",
        "# Sample DataFrame\n",
        "data = {\n",
        "    'Name': ['Alice', 'Bob', 'Charlie'],\n",
        "    'Age': [25, 30, 35],\n",
        "    'Salary': [50000, 60000, 70000]\n",
        "}\n",
        "df = pd.DataFrame(data)\n",
        "\n",
        "# View the first two rows\n",
        "print(df.head(2))\n",
        "\n",
        "# View the last row\n",
        "print(df.tail(1))\n",
        "\n",
        "# DataFrame information\n",
        "print(df.info())\n",
        "\n",
        "# Summary statistics\n",
        "print(df.describe())\n",
        "\n",
        "# Check dimensions of the DataFrame\n",
        "print(f\"The DataFrame has {df.shape[0]} rows and {df.shape[1]} columns.\")\n"
      ],
      "metadata": {
        "colab": {
          "base_uri": "https://localhost:8080/"
        },
        "id": "zedG3LuYPjq7",
        "outputId": "e6d99b83-1f4d-4c75-9e6f-a15bd4e0249b"
      },
      "execution_count": null,
      "outputs": [
        {
          "output_type": "stream",
          "name": "stdout",
          "text": [
            "    Name  Age  Salary\n",
            "0  Alice   25   50000\n",
            "1    Bob   30   60000\n",
            "      Name  Age  Salary\n",
            "2  Charlie   35   70000\n",
            "<class 'pandas.core.frame.DataFrame'>\n",
            "RangeIndex: 3 entries, 0 to 2\n",
            "Data columns (total 3 columns):\n",
            " #   Column  Non-Null Count  Dtype \n",
            "---  ------  --------------  ----- \n",
            " 0   Name    3 non-null      object\n",
            " 1   Age     3 non-null      int64 \n",
            " 2   Salary  3 non-null      int64 \n",
            "dtypes: int64(2), object(1)\n",
            "memory usage: 200.0+ bytes\n",
            "None\n",
            "        Age   Salary\n",
            "count   3.0      3.0\n",
            "mean   30.0  60000.0\n",
            "std     5.0  10000.0\n",
            "min    25.0  50000.0\n",
            "25%    27.5  55000.0\n",
            "50%    30.0  60000.0\n",
            "75%    32.5  65000.0\n",
            "max    35.0  70000.0\n",
            "The DataFrame has 3 rows and 3 columns.\n"
          ]
        }
      ]
    },
    {
      "cell_type": "markdown",
      "source": [
        "4.1.2 First Data Inspection and Exploration - Sample Code."
      ],
      "metadata": {
        "id": "ydO0CZtgP7mX"
      }
    },
    {
      "cell_type": "code",
      "source": [
        "import pandas as pd\n",
        "\n",
        "# Sample DataFrame\n",
        "data = {\n",
        "    'Name': ['Alice', 'Bob', 'Charlie'],\n",
        "    'Age': [25, 30, 35],\n",
        "    'Salary': [50000, 60000, 70000]\n",
        "}\n",
        "df = pd.DataFrame(data)\n",
        "\n",
        "# Access the 'Age' column\n",
        "print(df['Age'])\n",
        "\n",
        "# Select rows by numerical index\n",
        "print(df.iloc[0])  # First row\n",
        "\n",
        "# Select rows by condition\n",
        "print(df.loc[df['Age'] > 30])  # Rows where Age > 30\n"
      ],
      "metadata": {
        "colab": {
          "base_uri": "https://localhost:8080/"
        },
        "id": "LwmBlkSuP96_",
        "outputId": "8aa07e9d-a494-46dc-936f-07b34efbf676"
      },
      "execution_count": null,
      "outputs": [
        {
          "output_type": "stream",
          "name": "stdout",
          "text": [
            "0    25\n",
            "1    30\n",
            "2    35\n",
            "Name: Age, dtype: int64\n",
            "Name      Alice\n",
            "Age          25\n",
            "Salary    50000\n",
            "Name: 0, dtype: object\n",
            "      Name  Age  Salary\n",
            "2  Charlie   35   70000\n"
          ]
        }
      ]
    },
    {
      "cell_type": "markdown",
      "source": [
        "4.2 Filtering and Modifying DataFrame."
      ],
      "metadata": {
        "id": "eREKkbDrQhkD"
      }
    },
    {
      "cell_type": "code",
      "source": [
        "import pandas as pd\n",
        "\n",
        "# Create DataFrame\n",
        "df = pd.DataFrame({\n",
        "    'Name': ['Alice', 'Bob', 'Charlie'],\n",
        "    'Age': [25, 30, 35],\n",
        "    'Salary': [50000, 60000, 70000]\n",
        "})\n",
        "\n",
        "# Filter rows where Age > 28\n",
        "filtered_rows = df[df['Age'] > 28]\n",
        "print(\"Filtered Rows:\\n\", filtered_rows)\n",
        "\n",
        "# Select specific columns\n",
        "selected_columns = df[['Name', 'Salary']]\n",
        "print(\"\\nSelected Columns:\\n\", selected_columns)\n",
        "\n",
        "# Drop a column\n",
        "df_without_salary = df.drop(columns=['Salary'])\n",
        "print(\"\\nDataFrame without 'Salary' Column:\\n\", df_without_salary)\n",
        "\n",
        "# Drop a row by index\n",
        "df_without_row = df.drop(index=1)  # Drop Bob's row\n",
        "print(\"\\nDataFrame without Row Index 1:\\n\", df_without_row)\n",
        "\n",
        "# Add a new column for Bonus\n",
        "df['Bonus'] = df['Salary'] * 0.1\n",
        "print(\"\\nDataFrame with 'Bonus' Column:\\n\", df)\n"
      ],
      "metadata": {
        "colab": {
          "base_uri": "https://localhost:8080/"
        },
        "id": "SFkW5vGoQo8e",
        "outputId": "8b61f9e8-29b7-47f3-d4bf-fd4f17621924"
      },
      "execution_count": null,
      "outputs": [
        {
          "output_type": "stream",
          "name": "stdout",
          "text": [
            "Filtered Rows:\n",
            "       Name  Age  Salary\n",
            "1      Bob   30   60000\n",
            "2  Charlie   35   70000\n",
            "\n",
            "Selected Columns:\n",
            "       Name  Salary\n",
            "0    Alice   50000\n",
            "1      Bob   60000\n",
            "2  Charlie   70000\n",
            "\n",
            "DataFrame without 'Salary' Column:\n",
            "       Name  Age\n",
            "0    Alice   25\n",
            "1      Bob   30\n",
            "2  Charlie   35\n",
            "\n",
            "DataFrame without Row Index 1:\n",
            "       Name  Age  Salary\n",
            "0    Alice   25   50000\n",
            "2  Charlie   35   70000\n",
            "\n",
            "DataFrame with 'Bonus' Column:\n",
            "       Name  Age  Salary   Bonus\n",
            "0    Alice   25   50000  5000.0\n",
            "1      Bob   30   60000  6000.0\n",
            "2  Charlie   35   70000  7000.0\n"
          ]
        }
      ]
    },
    {
      "cell_type": "markdown",
      "source": [
        "5.1.2 Handling Missing values - Code Example."
      ],
      "metadata": {
        "id": "DMTg7l8KQv0e"
      }
    },
    {
      "cell_type": "code",
      "source": [
        "import pandas as pd\n",
        "from sklearn.datasets import load_iris\n",
        "import numpy as np\n",
        "\n",
        "# Load the Iris dataset\n",
        "iris = load_iris()\n",
        "\n",
        "# Create a DataFrame\n",
        "iris_df = pd.DataFrame(\n",
        "    data=np.c_[iris['data'], iris['target']],\n",
        "    columns=iris['feature_names'] + ['target']\n",
        ")\n",
        "\n",
        "# Introduce missing values randomly\n",
        "np.random.seed(42)\n",
        "mask = np.random.rand(*iris_df.shape) < 0.1  # 10% missing values\n",
        "iris_df[mask] = np.nan\n",
        "\n",
        "# Print missing values count\n",
        "print(\"Missing Values in Iris Dataset:\")\n",
        "print(iris_df.isnull().sum())\n"
      ],
      "metadata": {
        "colab": {
          "base_uri": "https://localhost:8080/"
        },
        "id": "VpGKWFdxQzXi",
        "outputId": "5d9a4ba4-35f9-406b-e776-75fb393bfe0a"
      },
      "execution_count": null,
      "outputs": [
        {
          "output_type": "stream",
          "name": "stdout",
          "text": [
            "Missing Values in Iris Dataset:\n",
            "sepal length (cm)    15\n",
            "sepal width (cm)     15\n",
            "petal length (cm)    19\n",
            "petal width (cm)     15\n",
            "target               19\n",
            "dtype: int64\n"
          ]
        }
      ]
    },
    {
      "cell_type": "markdown",
      "source": [
        "5.1.3 Filling Missing values - Code Example."
      ],
      "metadata": {
        "id": "Ndp19KJQREg-"
      }
    },
    {
      "cell_type": "code",
      "source": [
        "import pandas as pd\n",
        "\n",
        "# Filling missing values with different methods\n",
        "iris_df_ffill = iris_df.ffill()\n",
        "iris_df_mean = iris_df.fillna(iris_df.mean(numeric_only=True))\n",
        "iris_df_median = iris_df.fillna(iris_df.median(numeric_only=True))\n",
        "iris_df_zero = iris_df.fillna(0)\n",
        "\n",
        "# Expand iris_df with filled columns\n",
        "iris_df_expanded = pd.concat([\n",
        "    iris_df,\n",
        "    iris_df_ffill.add_suffix('_ffill'),\n",
        "    iris_df_mean.add_suffix('_mean'),\n",
        "    iris_df_median.add_suffix('_median'),\n",
        "    iris_df_zero.add_suffix('_zero')\n",
        "], axis=1)\n",
        "\n",
        "# Display the head of the expanded DataFrame\n",
        "print(\"\\nDataset after Filling Missing Values:\")\n",
        "print(iris_df_expanded.head())\n"
      ],
      "metadata": {
        "colab": {
          "base_uri": "https://localhost:8080/"
        },
        "id": "CThRUPKdRGS0",
        "outputId": "09475da2-7e19-4e0c-b7d8-dc24293480e7"
      },
      "execution_count": null,
      "outputs": [
        {
          "output_type": "stream",
          "name": "stdout",
          "text": [
            "\n",
            "Dataset after Filling Missing Values:\n",
            "   sepal length (cm)  sepal width (cm)  petal length (cm)  petal width (cm)  \\\n",
            "0                5.1               3.5                1.4               0.2   \n",
            "1                4.9               NaN                1.4               0.2   \n",
            "2                NaN               3.2                1.3               0.2   \n",
            "3                4.6               3.1                1.5               0.2   \n",
            "4                5.0               3.6                1.4               0.2   \n",
            "\n",
            "   target  sepal length (cm)_ffill  sepal width (cm)_ffill  \\\n",
            "0     0.0                      5.1                     3.5   \n",
            "1     0.0                      4.9                     3.5   \n",
            "2     0.0                      4.9                     3.2   \n",
            "3     0.0                      4.6                     3.1   \n",
            "4     0.0                      5.0                     3.6   \n",
            "\n",
            "   petal length (cm)_ffill  petal width (cm)_ffill  target_ffill  ...  \\\n",
            "0                      1.4                     0.2           0.0  ...   \n",
            "1                      1.4                     0.2           0.0  ...   \n",
            "2                      1.3                     0.2           0.0  ...   \n",
            "3                      1.5                     0.2           0.0  ...   \n",
            "4                      1.4                     0.2           0.0  ...   \n",
            "\n",
            "   sepal length (cm)_median  sepal width (cm)_median  \\\n",
            "0                       5.1                      3.5   \n",
            "1                       4.9                      3.0   \n",
            "2                       5.8                      3.2   \n",
            "3                       4.6                      3.1   \n",
            "4                       5.0                      3.6   \n",
            "\n",
            "   petal length (cm)_median  petal width (cm)_median  target_median  \\\n",
            "0                       1.4                      0.2            0.0   \n",
            "1                       1.4                      0.2            0.0   \n",
            "2                       1.3                      0.2            0.0   \n",
            "3                       1.5                      0.2            0.0   \n",
            "4                       1.4                      0.2            0.0   \n",
            "\n",
            "   sepal length (cm)_zero  sepal width (cm)_zero  petal length (cm)_zero  \\\n",
            "0                     5.1                    3.5                     1.4   \n",
            "1                     4.9                    0.0                     1.4   \n",
            "2                     0.0                    3.2                     1.3   \n",
            "3                     4.6                    3.1                     1.5   \n",
            "4                     5.0                    3.6                     1.4   \n",
            "\n",
            "   petal width (cm)_zero  target_zero  \n",
            "0                    0.2          0.0  \n",
            "1                    0.2          0.0  \n",
            "2                    0.2          0.0  \n",
            "3                    0.2          0.0  \n",
            "4                    0.2          0.0  \n",
            "\n",
            "[5 rows x 25 columns]\n"
          ]
        }
      ]
    },
    {
      "cell_type": "markdown",
      "source": [
        "5.1 Cleaning Our Data - Some other common operations."
      ],
      "metadata": {
        "id": "F7XcoFy1Rp3f"
      }
    },
    {
      "cell_type": "code",
      "source": [
        "import pandas as pd\n",
        "\n",
        "# Create DataFrame\n",
        "df = pd.DataFrame({'Name': ['Alice', 'Bob'], 'Age': [25, 30]})\n",
        "\n",
        "# Strip whitespace from the 'Name' column\n",
        "df['Name'] = df['Name'].str.strip()\n",
        "\n",
        "# Create a new DataFrame with string-type ages\n",
        "df = pd.DataFrame({'Age': ['25', '30', '35']})\n",
        "\n",
        "# Change 'Age' column data type to integer\n",
        "df['Age'] = df['Age'].astype(int)\n",
        "print(df)\n"
      ],
      "metadata": {
        "colab": {
          "base_uri": "https://localhost:8080/"
        },
        "id": "kjmx5F7fRooU",
        "outputId": "d0c96293-c674-4f84-bdf5-61ac1e893522"
      },
      "execution_count": null,
      "outputs": [
        {
          "output_type": "stream",
          "name": "stdout",
          "text": [
            "   Age\n",
            "0   25\n",
            "1   30\n",
            "2   35\n"
          ]
        }
      ]
    },
    {
      "cell_type": "markdown",
      "source": [
        "5.1.1 Cleaning Our Data - Some other common operations."
      ],
      "metadata": {
        "id": "8XbHmaTlR2bb"
      }
    },
    {
      "cell_type": "code",
      "source": [
        "import pandas as pd\n",
        "\n",
        "# Rename columns\n",
        "df = pd.DataFrame({'Name': ['Alice', 'Bob'], 'Age': [25, 30]})\n",
        "df = df.rename(columns={'Name': 'Full Name', 'Age': 'Years'})\n",
        "print(\"Renamed DataFrame:\")\n",
        "print(df)\n",
        "\n",
        "# Remove duplicate rows\n",
        "df = pd.DataFrame({'Name': ['Alice', 'Bob', 'Alice'], 'Age': [25, 30, 25]})\n",
        "df = df.drop_duplicates()\n",
        "print(\"\\nDataFrame after Removing Duplicates:\")\n",
        "print(df)\n"
      ],
      "metadata": {
        "colab": {
          "base_uri": "https://localhost:8080/"
        },
        "id": "OsUHHj4MR4A-",
        "outputId": "b333844e-e3b0-4d37-d3cb-bd40c534809f"
      },
      "execution_count": null,
      "outputs": [
        {
          "output_type": "stream",
          "name": "stdout",
          "text": [
            "Renamed DataFrame:\n",
            "  Full Name  Years\n",
            "0     Alice     25\n",
            "1       Bob     30\n",
            "\n",
            "DataFrame after Removing Duplicates:\n",
            "    Name  Age\n",
            "0  Alice   25\n",
            "1    Bob   30\n"
          ]
        }
      ]
    },
    {
      "cell_type": "markdown",
      "source": [
        "5.2.1 Data Transformations - Reshaping."
      ],
      "metadata": {
        "id": "TKRafzj7SWPm"
      }
    },
    {
      "cell_type": "code",
      "source": [
        "import pandas as pd\n",
        "\n",
        "# Sample DataFrame\n",
        "data = {\n",
        "    'Date': ['2024-01-01', '2024-01-01', '2024-01-02', '2024-01-02'],\n",
        "    'City': ['Kathmandu', 'Pokhara', 'Kathmandu', 'Pokhara'],\n",
        "    'Temperature': [15, 18, 16, 19]\n",
        "}\n",
        "df = pd.DataFrame(data)\n",
        "\n",
        "# Pivot: Reshape data to show cities as columns\n",
        "pivoted_df = df.pivot(index='Date', columns='City', values='Temperature')\n",
        "print(\"Pivoted DataFrame:\")\n",
        "print(pivoted_df)\n"
      ],
      "metadata": {
        "colab": {
          "base_uri": "https://localhost:8080/"
        },
        "id": "Y4tL3m25SYJQ",
        "outputId": "6c109664-e09c-4e30-804e-8e88360cdee5"
      },
      "execution_count": null,
      "outputs": [
        {
          "output_type": "stream",
          "name": "stdout",
          "text": [
            "Pivoted DataFrame:\n",
            "City        Kathmandu  Pokhara\n",
            "Date                          \n",
            "2024-01-01         15       18\n",
            "2024-01-02         16       19\n"
          ]
        }
      ]
    },
    {
      "cell_type": "markdown",
      "source": [
        "5.2.1 Data Transformations - Reshaping."
      ],
      "metadata": {
        "id": "jkcyJZdISfBR"
      }
    },
    {
      "cell_type": "code",
      "source": [
        "import pandas as pd\n",
        "\n",
        "# Sample DataFrame\n",
        "data = {\n",
        "    'Date': ['2024-01-01', '2024-01-01', '2024-01-02', '2024-01-02'],\n",
        "    'City': ['Kathmandu', 'Pokhara', 'Kathmandu', 'Pokhara'],\n",
        "    'Temperature': [15, 18, 16, 19]\n",
        "}\n",
        "df = pd.DataFrame(data)\n",
        "\n",
        "# Pivot: Reshape data to show cities as columns\n",
        "pivoted_df = df.pivot(index='Date', columns='City', values='Temperature')\n",
        "print(\"Pivoted DataFrame:\")\n",
        "print(pivoted_df)\n",
        "\n",
        "# Melt: Convert wide data back to long format\n",
        "melted_df = pd.melt(\n",
        "    pivoted_df.reset_index(),\n",
        "    id_vars=['Date'],\n",
        "    var_name='City',\n",
        "    value_name='Temperature'\n",
        ")\n",
        "print(\"\\nMelted DataFrame:\")\n",
        "print(melted_df)\n"
      ],
      "metadata": {
        "colab": {
          "base_uri": "https://localhost:8080/"
        },
        "id": "lp_o6hkASkqp",
        "outputId": "7faa60d1-0247-442f-b1bf-97341f31b65a"
      },
      "execution_count": null,
      "outputs": [
        {
          "output_type": "stream",
          "name": "stdout",
          "text": [
            "Pivoted DataFrame:\n",
            "City        Kathmandu  Pokhara\n",
            "Date                          \n",
            "2024-01-01         15       18\n",
            "2024-01-02         16       19\n",
            "\n",
            "Melted DataFrame:\n",
            "         Date       City  Temperature\n",
            "0  2024-01-01  Kathmandu           15\n",
            "1  2024-01-02  Kathmandu           16\n",
            "2  2024-01-01    Pokhara           18\n",
            "3  2024-01-02    Pokhara           19\n"
          ]
        }
      ]
    },
    {
      "cell_type": "markdown",
      "source": [
        "5.2.2 Data Transformations - Scaling."
      ],
      "metadata": {
        "id": "LViob2CHSsmk"
      }
    },
    {
      "cell_type": "code",
      "source": [
        "import pandas as pd\n",
        "from sklearn.datasets import load_iris\n",
        "\n",
        "# Load the Iris dataset\n",
        "iris = load_iris()\n",
        "\n",
        "# Create DataFrame\n",
        "iris_df = pd.DataFrame(data=iris['data'], columns=iris['feature_names'])\n",
        "\n",
        "# Min-Max Scaling using Pandas\n",
        "iris_minmax_scaled = (iris_df - iris_df.min()) / (iris_df.max() - iris_df.min())\n",
        "\n",
        "# Display original and scaled DataFrames\n",
        "print(\"Original Iris DataFrame:\")\n",
        "print(iris_df.head())\n",
        "\n",
        "print(\"\\nMin-Max Scaled Iris DataFrame:\")\n",
        "print(iris_minmax_scaled.head())  # Display scaled data\n"
      ],
      "metadata": {
        "colab": {
          "base_uri": "https://localhost:8080/"
        },
        "id": "1Q1y6KNESuAi",
        "outputId": "bf3eed78-8c40-4b5d-dec4-baeb2da2e400"
      },
      "execution_count": null,
      "outputs": [
        {
          "output_type": "stream",
          "name": "stdout",
          "text": [
            "Original Iris DataFrame:\n",
            "   sepal length (cm)  sepal width (cm)  petal length (cm)  petal width (cm)\n",
            "0                5.1               3.5                1.4               0.2\n",
            "1                4.9               3.0                1.4               0.2\n",
            "2                4.7               3.2                1.3               0.2\n",
            "3                4.6               3.1                1.5               0.2\n",
            "4                5.0               3.6                1.4               0.2\n",
            "\n",
            "Min-Max Scaled Iris DataFrame:\n",
            "   sepal length (cm)  sepal width (cm)  petal length (cm)  petal width (cm)\n",
            "0           0.222222          0.625000           0.067797          0.041667\n",
            "1           0.166667          0.416667           0.067797          0.041667\n",
            "2           0.111111          0.500000           0.050847          0.041667\n",
            "3           0.083333          0.458333           0.084746          0.041667\n",
            "4           0.194444          0.666667           0.067797          0.041667\n"
          ]
        }
      ]
    },
    {
      "cell_type": "markdown",
      "source": [
        "5.2.2 Data Transformations - Handling Categorical\n",
        "Variable."
      ],
      "metadata": {
        "id": "saHFpZ_mSzwr"
      }
    },
    {
      "cell_type": "code",
      "source": [
        "import pandas as pd\n",
        "\n",
        "# Sample DataFrame with ordinal categories\n",
        "df = pd.DataFrame({'Category': ['Low', 'Medium', 'High', 'Low', 'High']})\n",
        "\n",
        "# Ordinal encoding using map\n",
        "ordinal_mapping = {'Low': 1, 'Medium': 2, 'High': 3}\n",
        "df['Category_Ordinal'] = df['Category'].map(ordinal_mapping)\n",
        "\n",
        "# Display the DataFrame\n",
        "print(df)\n"
      ],
      "metadata": {
        "colab": {
          "base_uri": "https://localhost:8080/"
        },
        "id": "Gu1UI2EpS1XR",
        "outputId": "a9ad8ba7-48c4-4b99-bed2-162402d17d6b"
      },
      "execution_count": null,
      "outputs": [
        {
          "output_type": "stream",
          "name": "stdout",
          "text": [
            "  Category  Category_Ordinal\n",
            "0      Low                 1\n",
            "1   Medium                 2\n",
            "2     High                 3\n",
            "3      Low                 1\n",
            "4     High                 3\n"
          ]
        }
      ]
    },
    {
      "cell_type": "markdown",
      "source": [
        "5.2.2 Data Transformations - Handling Categorical\n",
        "Variable."
      ],
      "metadata": {
        "id": "5cstYlN5S9tS"
      }
    },
    {
      "cell_type": "code",
      "source": [
        "import pandas as pd\n",
        "\n",
        "# Sample DataFrame with municipalities\n",
        "df_municipalities = pd.DataFrame({\n",
        "    'Municipality': ['Kathmandu', 'Bhaktapur', 'Lalitpur', 'Madhyapur Thimi', 'Kirtipur']\n",
        "})\n",
        "\n",
        "# One-hot encoding using get_dummies\n",
        "one_hot_encoding = pd.get_dummies(df_municipalities['Municipality'], prefix='Municipality')\n",
        "\n",
        "# Concatenate original and encoded DataFrames\n",
        "df_encoded = pd.concat([df_municipalities, one_hot_encoding], axis=1)\n",
        "\n",
        "# Display the result\n",
        "print(df_encoded)\n"
      ],
      "metadata": {
        "colab": {
          "base_uri": "https://localhost:8080/"
        },
        "id": "yIi3zE_-S_aU",
        "outputId": "56edf6f0-3aa2-4be4-9429-1430700a5c4d"
      },
      "execution_count": null,
      "outputs": [
        {
          "output_type": "stream",
          "name": "stdout",
          "text": [
            "      Municipality  Municipality_Bhaktapur  Municipality_Kathmandu  \\\n",
            "0        Kathmandu                   False                    True   \n",
            "1        Bhaktapur                    True                   False   \n",
            "2         Lalitpur                   False                   False   \n",
            "3  Madhyapur Thimi                   False                   False   \n",
            "4         Kirtipur                   False                   False   \n",
            "\n",
            "   Municipality_Kirtipur  Municipality_Lalitpur  Municipality_Madhyapur Thimi  \n",
            "0                  False                  False                         False  \n",
            "1                  False                  False                         False  \n",
            "2                  False                   True                         False  \n",
            "3                  False                  False                          True  \n",
            "4                   True                  False                         False  \n"
          ]
        }
      ]
    },
    {
      "cell_type": "markdown",
      "source": [
        "5.3 Merging and Joining DataFrames."
      ],
      "metadata": {
        "id": "VFPJG3TlTLB1"
      }
    },
    {
      "cell_type": "code",
      "source": [
        "import pandas as pd\n",
        "\n",
        "# Sample DataFrames\n",
        "df1 = pd.DataFrame({'A': [1, 2], 'B': [3, 4]})\n",
        "df2 = pd.DataFrame({'A': [5, 6], 'B': [7, 8]})\n",
        "\n",
        "# Row-wise concatenation\n",
        "combined_rows = pd.concat([df1, df2], axis=0)\n",
        "print(\"Row-wise concatenation:\")\n",
        "print(combined_rows)\n",
        "\n",
        "# Column-wise concatenation\n",
        "combined_cols = pd.concat([df1, df2], axis=1)\n",
        "print(\"\\nColumn-wise concatenation:\")\n",
        "print(combined_cols)\n"
      ],
      "metadata": {
        "colab": {
          "base_uri": "https://localhost:8080/"
        },
        "id": "SockRfY8TNAy",
        "outputId": "8a0bc91c-28b5-471a-e2d7-557c4e5a2889"
      },
      "execution_count": null,
      "outputs": [
        {
          "output_type": "stream",
          "name": "stdout",
          "text": [
            "Row-wise concatenation:\n",
            "   A  B\n",
            "0  1  3\n",
            "1  2  4\n",
            "0  5  7\n",
            "1  6  8\n",
            "\n",
            "Column-wise concatenation:\n",
            "   A  B  A  B\n",
            "0  1  3  5  7\n",
            "1  2  4  6  8\n"
          ]
        }
      ]
    },
    {
      "cell_type": "markdown",
      "source": [
        "5.4.1 Merging - Code Example."
      ],
      "metadata": {
        "id": "4wYY9WTqTV9g"
      }
    },
    {
      "cell_type": "code",
      "source": [
        "import pandas as pd\n",
        "\n",
        "# Sample DataFrames\n",
        "df1 = pd.DataFrame({'ID': [1, 2, 3], 'Name': ['Alice', 'Bob', 'Charlie']})\n",
        "df2 = pd.DataFrame({'ID': [2, 3, 4], 'Score': [85, 90, 88]})\n",
        "\n",
        "# Inner join\n",
        "inner_merged = pd.merge(df1, df2, on='ID', how='inner')\n",
        "print(\"Inner Join:\")\n",
        "print(inner_merged)\n",
        "\n",
        "# Left join\n",
        "left_merged = pd.merge(df1, df2, on='ID', how='left')\n",
        "print(\"\\nLeft Join:\")\n",
        "print(left_merged)\n",
        "\n",
        "# Outer join\n",
        "outer_merged = pd.merge(df1, df2, on='ID', how='outer')\n",
        "print(\"\\nOuter Join:\")\n",
        "print(outer_merged)\n"
      ],
      "metadata": {
        "colab": {
          "base_uri": "https://localhost:8080/"
        },
        "id": "rX2hZr5jTYxk",
        "outputId": "e94731ee-1c13-43a1-d0f3-9c20c22b4f20"
      },
      "execution_count": null,
      "outputs": [
        {
          "output_type": "stream",
          "name": "stdout",
          "text": [
            "Inner Join:\n",
            "   ID     Name  Score\n",
            "0   2      Bob     85\n",
            "1   3  Charlie     90\n",
            "\n",
            "Left Join:\n",
            "   ID     Name  Score\n",
            "0   1    Alice    NaN\n",
            "1   2      Bob   85.0\n",
            "2   3  Charlie   90.0\n",
            "\n",
            "Outer Join:\n",
            "   ID     Name  Score\n",
            "0   1    Alice    NaN\n",
            "1   2      Bob   85.0\n",
            "2   3  Charlie   90.0\n",
            "3   4      NaN   88.0\n"
          ]
        }
      ]
    }
  ]
}